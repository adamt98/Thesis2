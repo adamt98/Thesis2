{
 "cells": [
  {
   "cell_type": "code",
   "execution_count": null,
   "metadata": {},
   "outputs": [],
   "source": [
    "from agents import ModelAverager, DeltaHedge\n",
    "from discrete_environments import DiscreteEnv\n",
    "from data_generators import GBM_Generator\n",
    "import utils\n",
    "import numpy as np"
   ]
  },
  {
   "cell_type": "code",
   "execution_count": null,
   "metadata": {},
   "outputs": [],
   "source": [
    "buy_cost_pct = 0.001\n",
    "sell_cost_pct = 0.001\n",
    "S0 = 100\n",
    "\n",
    "# Annualized\n",
    "sigma = 0.01*np.sqrt(250) # 1% vol per day\n",
    "r = 0.0\n",
    "\n",
    "freq = 0.2 # corresponds to trading freq of 5x per day\n",
    "ttm = 50\n",
    "kappa = 0.1\n",
    "n_actions = 41\n",
    "gamma = 0.99\n",
    "\n",
    "generator = GBM_Generator(S0, r, sigma, freq)\n",
    "\n",
    "env_args = {\n",
    "    \"buy_cost_pct\" : buy_cost_pct,\n",
    "    \"sell_cost_pct\" : sell_cost_pct,\n",
    "    \"generator\" : generator,\n",
    "    \"ttm\" : ttm,\n",
    "    \"kappa\" : kappa,\n",
    "    \"n_actions\" : n_actions,\n",
    "    \"testing\" : False\n",
    "}\n",
    "\n",
    "n_steps = 400000\n",
    "n_batches = 5\n",
    "\n",
    "eps_func = utils.EpsFunction(n_steps).get_func()"
   ]
  },
  {
   "cell_type": "code",
   "execution_count": null,
   "metadata": {},
   "outputs": [],
   "source": [
    "env = DiscreteEnv(**env_args)\n",
    "agent = ModelAverager(env, gamma)\n"
   ]
  },
  {
   "cell_type": "code",
   "execution_count": null,
   "metadata": {},
   "outputs": [],
   "source": [
    "agent.train(n_steps, n_batches, eps_func)"
   ]
  },
  {
   "cell_type": "code",
   "execution_count": null,
   "metadata": {},
   "outputs": [],
   "source": [
    "generator = GBM_Generator(r = r, sigma = sigma, S0 = S0, freq=freq, seed = 1234)\n",
    "env_args[\"generator\"] = generator\n",
    "env_args[\"testing\"] = True\n",
    "\n",
    "test_env = DiscreteEnv(**env_args)\n",
    "test_env_delta = DiscreteEnv(**env_args)\n",
    "\n",
    "df = agent.test(test_env)\n",
    "\n",
    "delta_agent = DeltaHedge(r, sigma, S0)\n",
    "delta = delta_agent.test(test_env_delta)\n",
    "\n",
    "utils.plot_decisions(delta, df)"
   ]
  },
  {
   "cell_type": "code",
   "execution_count": null,
   "metadata": {},
   "outputs": [],
   "source": [
    "utils.plot_pnl(delta, df)"
   ]
  },
  {
   "cell_type": "code",
   "execution_count": null,
   "metadata": {},
   "outputs": [],
   "source": [
    "n_sim = 4000\n",
    "generator = GBM_Generator(r = r, sigma = sigma, S0 = S0, freq = freq)\n",
    "env_args[\"generator\"] = generator\n",
    "env_args[\"testing\"] = True\n",
    "pnl_paths_dict, pnl_dict, tcosts_dict, ntrades_dict = utils.simulate_pnl(agent, delta_agent, n_sim, env_args)\n",
    "utils.plot_pnl_hist(pnl_paths_dict, pnl_dict, tcosts_dict, ntrades_dict)"
   ]
  }
 ],
 "metadata": {
  "interpreter": {
   "hash": "a293d65eec8dde5de2981af85d84dd43bd8051257380932fcaaf2cf90c1085ab"
  },
  "kernelspec": {
   "display_name": "Python 3.7.11 64-bit ('rl1': conda)",
   "language": "python",
   "name": "python3"
  },
  "language_info": {
   "codemirror_mode": {
    "name": "ipython",
    "version": 3
   },
   "file_extension": ".py",
   "mimetype": "text/x-python",
   "name": "python",
   "nbconvert_exporter": "python",
   "pygments_lexer": "ipython3",
   "version": "3.7.11"
  },
  "orig_nbformat": 4
 },
 "nbformat": 4,
 "nbformat_minor": 2
}
